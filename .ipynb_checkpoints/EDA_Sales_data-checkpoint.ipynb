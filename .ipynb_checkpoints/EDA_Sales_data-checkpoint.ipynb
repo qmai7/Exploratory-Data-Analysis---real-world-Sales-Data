{
 "cells": [
  {
   "cell_type": "markdown",
   "id": "1ec2ace4-2d27-498d-83f8-6a33caf46728",
   "metadata": {},
   "source": [
    "# Sales Analysis"
   ]
  },
  {
   "cell_type": "markdown",
   "id": "fcbab2b1-c1b8-45b9-aea5-e91a4a0e4636",
   "metadata": {},
   "source": [
    "#### Import necessary libraries"
   ]
  },
  {
   "cell_type": "code",
   "execution_count": 4,
   "id": "5c7ae5fb-83f5-4c7c-9f07-33a52512b519",
   "metadata": {},
   "outputs": [
    {
     "ename": "ModuleNotFoundError",
     "evalue": "No module named 'matplotlib'",
     "output_type": "error",
     "traceback": [
      "\u001b[1;31m---------------------------------------------------------------------------\u001b[0m",
      "\u001b[1;31mModuleNotFoundError\u001b[0m                       Traceback (most recent call last)",
      "Cell \u001b[1;32mIn[4], line 3\u001b[0m\n\u001b[0;32m      1\u001b[0m \u001b[38;5;28;01mimport\u001b[39;00m \u001b[38;5;21;01mos\u001b[39;00m\n\u001b[0;32m      2\u001b[0m \u001b[38;5;28;01mimport\u001b[39;00m \u001b[38;5;21;01mpandas\u001b[39;00m \u001b[38;5;28;01mas\u001b[39;00m \u001b[38;5;21;01mpd\u001b[39;00m \n\u001b[1;32m----> 3\u001b[0m \u001b[38;5;28;01mimport\u001b[39;00m \u001b[38;5;21;01mmatplotlib\u001b[39;00m\u001b[38;5;21;01m.\u001b[39;00m\u001b[38;5;21;01mpyplot\u001b[39;00m \u001b[38;5;28;01mas\u001b[39;00m \u001b[38;5;21;01mplt\u001b[39;00m\n",
      "\u001b[1;31mModuleNotFoundError\u001b[0m: No module named 'matplotlib'"
     ]
    }
   ],
   "source": [
    "import os\n",
    "import pandas as pd \n",
    "import matplotlib.pyplot as plt"
   ]
  },
  {
   "cell_type": "markdown",
   "id": "a5aceedd-24e1-4626-be78-ee1e4f29994e",
   "metadata": {},
   "source": [
    "#### Merge data from each month into one CSV"
   ]
  },
  {
   "cell_type": "code",
   "execution_count": null,
   "id": "2e9b118f-028c-4fd6-80f4-b9e6cb9fe96f",
   "metadata": {},
   "outputs": [],
   "source": []
  },
  {
   "cell_type": "markdown",
   "id": "36082c44-868e-4328-9a76-5efe9bac9ace",
   "metadata": {},
   "source": [
    "#### Clean up the data!"
   ]
  },
  {
   "cell_type": "markdown",
   "id": "4ef11101-817a-4d39-9829-22ea2b11804b",
   "metadata": {},
   "source": [
    "#### **Question 1: What was the best month for sales? How much was earned that month? :**"
   ]
  },
  {
   "cell_type": "markdown",
   "id": "c4ba3c1a-5db7-4529-a247-4cd122a5f4b6",
   "metadata": {},
   "source": [
    "#### **Question 2: What city had the highest number of sales?**"
   ]
  },
  {
   "cell_type": "markdown",
   "id": "0fa4ec40-8c63-4d5a-88b2-991820a25c37",
   "metadata": {},
   "source": [
    "#### **Question 3: What time should we display advertisements to maximize the likelihood of customers buying the product?**"
   ]
  },
  {
   "cell_type": "markdown",
   "id": "aa44740f-3878-4736-a0e2-10c5b89116f2",
   "metadata": {},
   "source": [
    "#### **Question 4: What products are most often sold together?**"
   ]
  },
  {
   "cell_type": "markdown",
   "id": "6629cd29-116a-4f10-bba0-baa4f00eeecc",
   "metadata": {},
   "source": [
    "#### **Question 5: What product sold the most? Why do you think it sold the most?**"
   ]
  }
 ],
 "metadata": {
  "kernelspec": {
   "display_name": "Python 3 (ipykernel)",
   "language": "python",
   "name": "python3"
  },
  "language_info": {
   "codemirror_mode": {
    "name": "ipython",
    "version": 3
   },
   "file_extension": ".py",
   "mimetype": "text/x-python",
   "name": "python",
   "nbconvert_exporter": "python",
   "pygments_lexer": "ipython3",
   "version": "3.11.9"
  }
 },
 "nbformat": 4,
 "nbformat_minor": 5
}
